{
 "cells": [
  {
   "cell_type": "markdown",
   "metadata": {},
   "source": [
    "<h3>Write a program which takes 5 inputs from user for different subject’s\n",
    "marks, total it and generate mark sheet using grades ?</h3>"
   ]
  },
  {
   "cell_type": "code",
   "execution_count": 8,
   "metadata": {},
   "outputs": [
    {
     "name": "stdout",
     "output_type": "stream",
     "text": [
      "Marks of subjects out of 100 \n",
      "\n",
      "Enter your English obtained marks: 54\n",
      "Enter your Urdu obtained marks: 76\n",
      "Enter your Pyhsics obtained marks: 87\n",
      "Enter your Math obtained marks: 45\n",
      "Enter your Computer obtained marks: 43\n",
      "\n",
      "      '''''''Marksheet'''''''\n",
      "\n",
      "Subjects   | Obtained Marks | Total Marks \n",
      "\n",
      "English           54            100\n",
      "Urdu              76            100\n",
      "Pyhsics           87            100\n",
      "Math              45            100\n",
      "Computer          43            100\n",
      "\n",
      "\n",
      "Total Marks are 500, Obtained marks are  305 \n",
      "\n",
      "Your Percentage is  61.0  Your grade is ' B '\n"
     ]
    }
   ],
   "source": [
    "def spacing(sp):\n",
    "    sp = 11 - sp \n",
    "    spv=\"\"\n",
    "    for s in range(sp):\n",
    "        spv += \" \"\n",
    "    return spv\n",
    "\n",
    "print(\"Marks of subjects out of 100 \\n\")\n",
    "\n",
    "subjects = ['English','Urdu','Pyhsics','Math','Computer']\n",
    "subjectsObtained = []\n",
    "totalObtained = 0\n",
    "\n",
    "for sub in subjects:\n",
    "    marks = int(input(\"Enter your \"+sub+\" obtained marks: \"))\n",
    "    subjectsObtained.append(marks)\n",
    "    totalObtained += marks\n",
    "    \n",
    "percentage = (totalObtained / 500) * 100\n",
    "grade = ''\n",
    "\n",
    "if(percentage >= 90):\n",
    "    grade = \"A+\"\n",
    "elif(percentage >= 80):\n",
    "        grade = \"A\"\n",
    "elif(percentage >= 60):\n",
    "        grade = \"B\"\n",
    "elif(percentage >= 50):\n",
    "        grade = \"C\"\n",
    "elif(percentage >= 40):\n",
    "        grade = \"D\"\n",
    "else:\n",
    "    grade = \"F\"\n",
    "        \n",
    "print(\"\\n      '''''''Marksheet'''''''\\n\")\n",
    "\n",
    "print(\"Subjects   | Obtained Marks | Total Marks \\n\")\n",
    "\n",
    "\n",
    "for i,j in zip(subjects,subjectsObtained):\n",
    "    print(i +spacing(len(i))+\"       \"+ str(j)+\"            100\")\n",
    "\n",
    "print(\"\\n\\nTotal Marks are 500, Obtained marks are \",totalObtained,\"\\n\")\n",
    "print(\"Your Percentage is \",percentage, \" Your grade is '\",grade,\"'\")\n",
    "\n"
   ]
  },
  {
   "cell_type": "markdown",
   "metadata": {},
   "source": [
    "<h3>Write a program which take input from user and identify that the given\n",
    "number is even or odd?</h3>"
   ]
  },
  {
   "cell_type": "code",
   "execution_count": 9,
   "metadata": {},
   "outputs": [
    {
     "name": "stdout",
     "output_type": "stream",
     "text": [
      "Your number: 6\n",
      "6  is even number.\n"
     ]
    }
   ],
   "source": [
    "num = int(input(\"Your number: \"))\n",
    "if(num%2 == 0):\n",
    "    print(num,\" is even number.\")\n",
    "else:\n",
    "    print(num,\" is odd number.\")"
   ]
  },
  {
   "cell_type": "markdown",
   "metadata": {},
   "source": [
    "<h3>Write a program which print the length of the list?</h3>"
   ]
  },
  {
   "cell_type": "code",
   "execution_count": 10,
   "metadata": {},
   "outputs": [
    {
     "name": "stdout",
     "output_type": "stream",
     "text": [
      "List lenght is  12\n"
     ]
    }
   ],
   "source": [
    "listt = [1,2,4,5,8,5,5,6,78,5,67,7]\n",
    "print(\"List lenght is \",len(listt))"
   ]
  },
  {
   "cell_type": "markdown",
   "metadata": {},
   "source": [
    "<h3>Write a Python program to sum all the numeric items in a list?</h3>"
   ]
  },
  {
   "cell_type": "code",
   "execution_count": 11,
   "metadata": {},
   "outputs": [
    {
     "name": "stdout",
     "output_type": "stream",
     "text": [
      "list sum is  15\n"
     ]
    }
   ],
   "source": [
    "listtt = [1,2,6,2,4]\n",
    "listsum = 0\n",
    "for n in listtt:\n",
    "    listsum += n\n",
    "print(\"list sum is \",listsum)"
   ]
  },
  {
   "cell_type": "markdown",
   "metadata": {},
   "source": [
    "<h3>Write a Python program to get the largest number from a numeric list.</h3>"
   ]
  },
  {
   "cell_type": "code",
   "execution_count": 12,
   "metadata": {},
   "outputs": [
    {
     "name": "stdout",
     "output_type": "stream",
     "text": [
      "Largest Number is   46\n"
     ]
    }
   ],
   "source": [
    "listt1 = [1,7,27,8,46,23]\n",
    "\n",
    "num = listt1[0]\n",
    "for n in listt1:\n",
    "    if n > num :\n",
    "        num = n\n",
    "\n",
    "print(\"Largest Number is  \",num)\n",
    "        "
   ]
  },
  {
   "cell_type": "markdown",
   "metadata": {},
   "source": [
    "<h3>Take a list, say for example this one:\n",
    "a = [1, 1, 2, 3, 5, 8, 13, 21, 34, 55, 89]\n",
    "and write a program that prints out all the elements of the list that are\n",
    "less than 5.</h3>"
   ]
  },
  {
   "cell_type": "code",
   "execution_count": 13,
   "metadata": {},
   "outputs": [
    {
     "name": "stdout",
     "output_type": "stream",
     "text": [
      "Numbers which are less then 5 :\n",
      "\n",
      "1\n",
      "1\n",
      "2\n",
      "3\n"
     ]
    }
   ],
   "source": [
    "listtt2 = [1,1,2,3,5,8,13,21,34,55,89]\n",
    "print(\"Numbers which are less then 5 :\\n\")\n",
    "for n in listtt2:\n",
    "    if(n < 5):\n",
    "        print(n)"
   ]
  }
 ],
 "metadata": {
  "kernelspec": {
   "display_name": "Python 3",
   "language": "python",
   "name": "python3"
  },
  "language_info": {
   "codemirror_mode": {
    "name": "ipython",
    "version": 3
   },
   "file_extension": ".py",
   "mimetype": "text/x-python",
   "name": "python",
   "nbconvert_exporter": "python",
   "pygments_lexer": "ipython3",
   "version": "3.6.5"
  }
 },
 "nbformat": 4,
 "nbformat_minor": 2
}
