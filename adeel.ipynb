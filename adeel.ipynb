{
  "nbformat": 4,
  "nbformat_minor": 0,
  "metadata": {
    "colab": {
      "name": "Untitled0.ipynb",
      "provenance": [],
      "collapsed_sections": []
    },
    "kernelspec": {
      "name": "python3",
      "display_name": "Python 3"
    }
  },
  "cells": [
    {
      "cell_type": "code",
      "metadata": {
        "id": "OF04_U_Nkb77",
        "colab_type": "code",
        "colab": {
          "base_uri": "https://localhost:8080/",
          "height": 102
        },
        "outputId": "f99409f8-f200-43c3-abeb-61adc7b4dc44"
      },
      "source": [
        "print(\"Twinkle, Twinkle, little star,\\n\" \n",
        "            \"      How I wounder what you are!\\n\"\n",
        "                     \"           Up above the world so heigh!\\n\"\n",
        "       \"Twinkle, twinkle, little star,\\n\"\n",
        "              \"      How I wonder what you are   \")"
      ],
      "execution_count": 96,
      "outputs": [
        {
          "output_type": "stream",
          "text": [
            "Twinkle, Twinkle, little star,\n",
            "      How I wounder what you are!\n",
            "           Up above the world so heigh!\n",
            "Twinkle, twinkle, little star,\n",
            "      How I wonder what you are   \n"
          ],
          "name": "stdout"
        }
      ]
    },
    {
      "cell_type": "code",
      "metadata": {
        "id": "1Uy_YTFdl_Dv",
        "colab_type": "code",
        "colab": {
          "base_uri": "https://localhost:8080/",
          "height": 34
        },
        "outputId": "76c15291-305f-43cb-f5e8-e106ae8b6f35"
      },
      "source": [
        "import platform\n",
        "print(\"Python version : \",platform.python_version())"
      ],
      "execution_count": 97,
      "outputs": [
        {
          "output_type": "stream",
          "text": [
            "Python version :  3.6.8\n"
          ],
          "name": "stdout"
        }
      ]
    },
    {
      "cell_type": "code",
      "metadata": {
        "id": "yoyxYXrepbo5",
        "colab_type": "code",
        "colab": {
          "base_uri": "https://localhost:8080/",
          "height": 34
        },
        "outputId": "cce15711-6912-4665-9d02-44e62be7cebf"
      },
      "source": [
        "import time\n",
        "localtime = time.asctime( time.localtime(time.time()) )\n",
        "print(localtime)"
      ],
      "execution_count": 98,
      "outputs": [
        {
          "output_type": "stream",
          "text": [
            "Sat Nov  2 16:08:25 2019\n"
          ],
          "name": "stdout"
        }
      ]
    },
    {
      "cell_type": "code",
      "metadata": {
        "id": "pmER7yHIppOh",
        "colab_type": "code",
        "colab": {
          "base_uri": "https://localhost:8080/",
          "height": 51
        },
        "outputId": "f1bb6441-60a3-4677-9fe5-da8d5a5878a0"
      },
      "source": [
        "import math\n",
        "a=input(\"Enter a radius: \")\n",
        "area=math.pi*(math.pow(int(a),2))\n",
        "print(\"Area of circle is : \",area)"
      ],
      "execution_count": 99,
      "outputs": [
        {
          "output_type": "stream",
          "text": [
            "Enter a radius: 2\n",
            "Area of circle is :  12.566370614359172\n"
          ],
          "name": "stdout"
        }
      ]
    },
    {
      "cell_type": "code",
      "metadata": {
        "id": "M2HxBOUTtCm0",
        "colab_type": "code",
        "colab": {
          "base_uri": "https://localhost:8080/",
          "height": 68
        },
        "outputId": "8228d0ac-da2d-4808-fa45-68df2e99bbdd"
      },
      "source": [
        "firstname=input(\"First name : \")\n",
        "lastname=input(\"Last name : \")\n",
        "reversedNumber = lastname[::-1] + \" \" + firstname[::-1]   \n",
        "print(\"Reversed order :\",reversedNumber)"
      ],
      "execution_count": 101,
      "outputs": [
        {
          "output_type": "stream",
          "text": [
            "First name : muhammad \n",
            "Last name : adeel\n",
            "Reversed order : leeda  dammahum\n"
          ],
          "name": "stdout"
        }
      ]
    },
    {
      "cell_type": "code",
      "metadata": {
        "id": "ArtXF2E4uAEf",
        "colab_type": "code",
        "colab": {
          "base_uri": "https://localhost:8080/",
          "height": 68
        },
        "outputId": "7bf172a7-f98e-4566-d329-997d0b3741ef"
      },
      "source": [
        "firstnum=input(\"Enter first number!\")\n",
        "secondnum=input(\"Enter second number!\")\n",
        "addition= int(firstnum)+int(secondnum)\n",
        "print(addition)"
      ],
      "execution_count": 102,
      "outputs": [
        {
          "output_type": "stream",
          "text": [
            "Enter first number!2\n",
            "Enter second number!4\n",
            "6\n"
          ],
          "name": "stdout"
        }
      ]
    },
    {
      "cell_type": "code",
      "metadata": {
        "id": "hvTqk_oF0ZJR",
        "colab_type": "code",
        "colab": {}
      },
      "source": [
        ""
      ],
      "execution_count": 0,
      "outputs": []
    }
  ]
}