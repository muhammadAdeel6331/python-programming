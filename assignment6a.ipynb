{
 "cells": [
  {
   "cell_type": "markdown",
   "metadata": {},
   "source": [
    "<h2>Question 1</h2>"
   ]
  },
  {
   "cell_type": "markdown",
   "metadata": {},
   "source": [
    "Object Oriented Programming Language (OOPL) means the language is based on the object oriented programming (OOP) concept. OOPL is the high-level language of OOP Model . The object Oriented Programming is the concept of Object in which we make objects of a class and class contains the specific data (attributes) and behavoiur (methods)."
   ]
  },
  {
   "cell_type": "markdown",
   "metadata": {},
   "source": [
    "<h2>Question 2</h2>"
   ]
  },
  {
   "cell_type": "markdown",
   "metadata": {},
   "source": [
    "The benifits of Object Oriented Programming are :\n",
    "<ul>\n",
    "    <li>The code written using OOP can be reusable </li>\n",
    "    <li>It breaks down a problem and saves much time</li>\n",
    "    <li>whenever we make the Object it inherits all the features and behavoirs automatically</li>\n",
    "    <li>The code written using OOP can be modify easily</li>\n",
    "</ul>"
   ]
  },
  {
   "cell_type": "markdown",
   "metadata": {},
   "source": [
    "<h2>Question 3</h2>"
   ]
  },
  {
   "cell_type": "markdown",
   "metadata": {},
   "source": [
    "The difference between the function and method is Whenever we talk about funtion it means the code or a specific task we want to perform we code in that function and then reuse it again again so method also has the same or all functionaliy which the function has just the difference is if we code function in the Class so we call that function a method or The function is the part of class is method but outside the class when we code function so we call function."
   ]
  },
  {
   "cell_type": "markdown",
   "metadata": {},
   "source": [
    "<h2>Question 4</h2>"
   ]
  },
  {
   "cell_type": "markdown",
   "metadata": {},
   "source": [
    "<h6>Class</h6>\n",
    "<p>The Class is the Blueprint for creating Objects in Object Oriented Programming (OOP). Class conatins constructor, attributes and methonds.</p>\n",
    "<h6>Object</h6>\n",
    "<p>Objects are the instances of the Class which are being made by Instantiation. We can make Multiple Objects of one class and each object gets all attributes and methods from where the object was intantiated.</p>\n",
    "<h6>Attribute</h6>\n",
    "<p>Attribute is the part of class. Attribute stores data. Variables are accessible through instances or objects are called attributes.</p>\n",
    "<h6>Behavior</h6>\n",
    "<p>Behavior is the part of class. Behaviors are the Methods. Behaviors or Methods  has the Functionality which is being preformed when we call through the object.</p>"
   ]
  },
  {
   "cell_type": "markdown",
   "metadata": {},
   "source": [
    "<h2>Question 5</h2>"
   ]
  },
  {
   "cell_type": "code",
   "execution_count": 2,
   "metadata": {},
   "outputs": [
    {
     "name": "stdout",
     "output_type": "stream",
     "text": [
      "___________________CAR 1__________________________\n",
      "Modle of the Car  :  2010\n",
      "Colour of the Car :  Red\n",
      "Name of the Car   :  civic\n",
      "CC of the Car     :  1500 CC\n",
      "Weight of the cae :  750 kg\n",
      "\n",
      "\n",
      "Modified CC of the car is :  2000\n",
      "__________________CAR 2___________________________\n",
      "Modle of the Car  :  2011\n",
      "Colour of the Car :  red\n",
      "Name of the Car   :  civic\n",
      "CC of the Car     :  1550 CC\n",
      "Weight of the cae :  750 kg\n",
      "\n",
      "\n",
      "Modified colour of the car is :  blue\n",
      "___________________CAR 3__________________________\n",
      "Modle of the Car  :  2010\n",
      "Colour of the Car :  Red\n",
      "Name of the Car   :  civic\n",
      "CC of the Car     :  1500 CC\n",
      "Weight of the cae :  750 kg\n",
      "\n",
      "\n",
      "Modified modle of the car is :  2013\n",
      "__________________CAR 4___________________________\n",
      "Modle of the Car  :  2010\n",
      "Colour of the Car :  Red\n",
      "Name of the Car   :  civic\n",
      "CC of the Car     :  1500 CC\n",
      "Weight of the cae :  750 kg\n",
      "\n",
      "\n",
      "Modified CC of the car is :  3000\n",
      "Modified colour of the car is :  black\n",
      "___________________CAR 5__________________________\n",
      "Modle of the Car  :  2010\n",
      "Colour of the Car :  Red\n",
      "Name of the Car   :  civic\n",
      "CC of the Car     :  1500 CC\n",
      "Weight of the cae :  750 kg\n",
      "\n",
      "\n",
      "Modified CC of the car is :  3500\n",
      "Modified colour of the car is :  white\n",
      "Modified modle of the car is :  2019\n",
      "_____________________________________________\n"
     ]
    }
   ],
   "source": [
    "# Qustion 5\n",
    "\n",
    "class Car():\n",
    "    def __init__(self,modle,colour,name,cc,weight):\n",
    "        self.name = name\n",
    "        self.modle = modle\n",
    "        self.colour = colour\n",
    "        self.cc = cc\n",
    "        self.weight = weight\n",
    "        \n",
    "        \n",
    "    def updateCC(self,newcc):\n",
    "        self.newcc = newcc\n",
    "        \n",
    "    def updatecolour(self,newcolour):\n",
    "        self.newcolour = newcolour\n",
    "        \n",
    "    def updatemodle(self,newmodle):\n",
    "        self.newmodle = newmodle\n",
    "        \n",
    "#instence 1       \n",
    "car1 = Car(2010,\"Red\",\"civic\",\"1500 CC\",\"750 kg\")\n",
    "\n",
    "print('___________________CAR 1__________________________')\n",
    "print(\"Modle of the Car  : \",car1.modle)\n",
    "print(\"Colour of the Car : \",car1.colour)\n",
    "print(\"Name of the Car   : \",car1.name)\n",
    "print(\"CC of the Car     : \",car1.cc)\n",
    "print(\"Weight of the cae : \",car1.weight)\n",
    "print('\\n')\n",
    "car1.updateCC('2000')\n",
    "print(\"Modified CC of the car is : \",car1.newcc)\n",
    "print('__________________CAR 2___________________________')\n",
    "\n",
    "#instence 2\n",
    "car2 = Car(2011,\"red\",\"civic\",\"1550 CC\",\"750 kg\")\n",
    "\n",
    "print(\"Modle of the Car  : \",car2.modle)\n",
    "print(\"Colour of the Car : \",car2.colour)\n",
    "print(\"Name of the Car   : \",car2.name)\n",
    "print(\"CC of the Car     : \",car2.cc)\n",
    "print(\"Weight of the cae : \",car2.weight)\n",
    "print('\\n')\n",
    "car2.updatecolour('blue')\n",
    "print(\"Modified colour of the car is : \",car2.newcolour)\n",
    "print('___________________CAR 3__________________________')\n",
    "\n",
    "#instence 3\n",
    "car3 = Car(2010,\"Red\",\"civic\",\"1500 CC\",\"750 kg\")\n",
    "\n",
    "print(\"Modle of the Car  : \",car3.modle)\n",
    "print(\"Colour of the Car : \",car3.colour)\n",
    "print(\"Name of the Car   : \",car3.name)\n",
    "print(\"CC of the Car     : \",car3.cc)\n",
    "print(\"Weight of the cae : \",car3.weight)\n",
    "print('\\n')\n",
    "car3.updatemodle('2013')\n",
    "print(\"Modified modle of the car is : \",car3.newmodle)\n",
    "print('__________________CAR 4___________________________')\n",
    "\n",
    "#instence 4\n",
    "car4 = Car(2010,\"Red\",\"civic\",\"1500 CC\",\"750 kg\")\n",
    "\n",
    "print(\"Modle of the Car  : \",car4.modle)\n",
    "print(\"Colour of the Car : \",car4.colour)\n",
    "print(\"Name of the Car   : \",car4.name)\n",
    "print(\"CC of the Car     : \",car4.cc)\n",
    "print(\"Weight of the cae : \",car4.weight)\n",
    "print('\\n')\n",
    "car4.updateCC('3000')\n",
    "car4.updatecolour('black')\n",
    "print(\"Modified CC of the car is : \",car4.newcc)\n",
    "print(\"Modified colour of the car is : \",car4.newcolour)\n",
    "print('___________________CAR 5__________________________')\n",
    "\n",
    "#instence 5\n",
    "car5 = Car(2010,\"Red\",\"civic\",\"1500 CC\",\"750 kg\")\n",
    "\n",
    "print(\"Modle of the Car  : \",car5.modle)\n",
    "print(\"Colour of the Car : \",car5.colour)\n",
    "print(\"Name of the Car   : \",car5.name)\n",
    "print(\"CC of the Car     : \",car5.cc)\n",
    "print(\"Weight of the cae : \",car5.weight)\n",
    "print('\\n')\n",
    "car5.updateCC('3500')\n",
    "car5.updatecolour('white')\n",
    "car5.updatemodle('2019')\n",
    "print(\"Modified CC of the car is : \",car5.newcc)\n",
    "print(\"Modified colour of the car is : \",car5.newcolour)\n",
    "print(\"Modified modle of the car is : \",car5.newmodle)\n",
    "print('_____________________________________________')"
   ]
  }
 ],
 "metadata": {
  "kernelspec": {
   "display_name": "Python 3",
   "language": "python",
   "name": "python3"
  },
  "language_info": {
   "codemirror_mode": {
    "name": "ipython",
    "version": 3
   },
   "file_extension": ".py",
   "mimetype": "text/x-python",
   "name": "python",
   "nbconvert_exporter": "python",
   "pygments_lexer": "ipython3",
   "version": "3.6.5"
  }
 },
 "nbformat": 4,
 "nbformat_minor": 2
}
