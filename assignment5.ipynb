{
 "cells": [
  {
   "cell_type": "markdown",
   "metadata": {
    "colab_type": "text",
    "id": "DJ1G0vLfPgCA"
   },
   "source": [
    "<h3>Question 1</h3>"
   ]
  },
  {
   "cell_type": "code",
   "execution_count": 57,
   "metadata": {
    "colab": {
     "base_uri": "https://localhost:8080/",
     "height": 51
    },
    "colab_type": "code",
    "id": "d6Qng2Z8PXvI",
    "outputId": "093cd12e-1f8b-49e6-c528-16fbd95d5e4f"
   },
   "outputs": [
    {
     "name": "stdout",
     "output_type": "stream",
     "text": [
      "Enter Number for Factorail 6\n",
      "The Factorail of the  6  is  720\n"
     ]
    }
   ],
   "source": [
    "def factorail(n):\n",
    "  fact = 1\n",
    "  for i in range(1,n+1): \n",
    "    fact = fact * i\n",
    "  return fact\n",
    "\n",
    "\n",
    "\n",
    "while(True):\n",
    "  num = int(input(\"Enter Number for Factorail \"))\n",
    "  if num>=0:\n",
    "    facto = factorail(num)\n",
    "    print(\"The Factorail of the \",num,\" is \",facto)\n",
    "    break\n",
    "  else:\n",
    "    print(\"Please give the none negative value\")"
   ]
  },
  {
   "cell_type": "markdown",
   "metadata": {
    "colab_type": "text",
    "id": "_6f_FBpRWWp9"
   },
   "source": [
    "<h2>Qusetion 2</h2>"
   ]
  },
  {
   "cell_type": "code",
   "execution_count": 1,
   "metadata": {
    "colab": {
     "base_uri": "https://localhost:8080/",
     "height": 102
    },
    "colab_type": "code",
    "id": "WMHeFi4ZQOWc",
    "outputId": "09a6af24-677a-4898-a58e-7227ed1cce59"
   },
   "outputs": [
    {
     "name": "stdout",
     "output_type": "stream",
     "text": [
      "Enter your String: My Name is Adeel\n",
      "\n",
      "\n",
      "Upper Letters are :  3\n",
      "Lower Letters are :  10\n"
     ]
    }
   ],
   "source": [
    "\n",
    "def calculateUL(s):\n",
    "  \n",
    "  d = {\n",
    "   'upper' : 0 ,\n",
    "  'lower' : 0   \n",
    "  }\n",
    "  for i in list(s):\n",
    "    if i.isalpha():\n",
    "      if i.isupper():\n",
    "        d['upper'] += 1\n",
    "      else:\n",
    "        d['lower'] += 1\n",
    "  \n",
    "  return d\n",
    "\n",
    "\n",
    "\n",
    "inputforstringc = input(\"Enter your String: \")\n",
    "\n",
    "valuesUL = calculateUL(inputforstringc)\n",
    "\n",
    "print(\"\\n\")\n",
    "print(\"Upper Letters are : \",valuesUL['upper'])\n",
    "print(\"Lower Letters are : \",valuesUL['lower'])\n",
    "\n",
    "\n"
   ]
  },
  {
   "cell_type": "markdown",
   "metadata": {
    "colab_type": "text",
    "id": "R0nAKO-mWmPV"
   },
   "source": [
    "<h2>Question 3</h2>"
   ]
  },
  {
   "cell_type": "code",
   "execution_count": 70,
   "metadata": {
    "colab": {
     "base_uri": "https://localhost:8080/",
     "height": 85
    },
    "colab_type": "code",
    "id": "Gt2qoX6QSsrA",
    "outputId": "3f1cb98d-7878-46ee-e180-a058c819e71c"
   },
   "outputs": [
    {
     "name": "stdout",
     "output_type": "stream",
     "text": [
      "4  is Even Number \n",
      "84  is Even Number \n",
      "6  is Even Number \n",
      "8  is Even Number \n"
     ]
    }
   ],
   "source": [
    "def evenNumbers(listofnum):\n",
    "  for i in listofnum:\n",
    "    if i%2 == 0:\n",
    "      print(i,\" is Even Number \")\n",
    "\n",
    "evenNumbers([1,3,4,84,23,6,8,65,87,45,23])\n"
   ]
  },
  {
   "cell_type": "markdown",
   "metadata": {
    "colab_type": "text",
    "id": "SVbnDkKKZ1yi"
   },
   "source": [
    "<h2>Question 4</h2>"
   ]
  },
  {
   "cell_type": "code",
   "execution_count": 76,
   "metadata": {
    "colab": {
     "base_uri": "https://localhost:8080/",
     "height": 34
    },
    "colab_type": "code",
    "id": "dmiZfkJjW_pl",
    "outputId": "5df51a22-73f6-4425-b69e-e4f752923946"
   },
   "outputs": [
    {
     "name": "stdout",
     "output_type": "stream",
     "text": [
      "Refer is Palindrome\n"
     ]
    }
   ],
   "source": [
    "def isPalindrome(s): \n",
    "    # Calling reverse function \n",
    "    s = s.lower()\n",
    "    rev = s[::-1] \n",
    "  \n",
    "    # Checking if both string are equal or not \n",
    "    if s == rev: \n",
    "      return True\n",
    "\n",
    "    return False\n",
    "\n",
    "svalue = \"Refer\"\n",
    "\n",
    "v = isPalindrome(svalue)\n",
    "\n",
    "if v:\n",
    "  print(svalue,\"is Palindrome\")\n",
    "else:\n",
    "  print(svalue,\"is not Palindrome\")"
   ]
  },
  {
   "cell_type": "markdown",
   "metadata": {
    "colab_type": "text",
    "id": "M_SiyPuSZzYa"
   },
   "source": [
    "<h2>Question 5</h2>"
   ]
  },
  {
   "cell_type": "code",
   "execution_count": 84,
   "metadata": {
    "colab": {
     "base_uri": "https://localhost:8080/",
     "height": 51
    },
    "colab_type": "code",
    "id": "nwws2nDvZmNq",
    "outputId": "ca922ea6-20bd-4bd9-9ad2-8e97d9841349"
   },
   "outputs": [
    {
     "name": "stdout",
     "output_type": "stream",
     "text": [
      "Enter Sample Numebr only integers :11\n",
      "11 is a prime number\n"
     ]
    }
   ],
   "source": [
    "def primeCheck(num):\n",
    "  if num > 1:\n",
    "    for i in range(2,num):\n",
    "      if (num % i) == 0:\n",
    "        return False\n",
    "        break\n",
    "    else:\n",
    "      return True \n",
    "  else:\n",
    "    return False\n",
    "\n",
    "\n",
    "sampleNum = int(input(\"Enter Sample Numebr only integers :\"))\n",
    "\n",
    "v =  primeCheck(sampleNum)\n",
    "\n",
    "if v:\n",
    "   print(sampleNum,\"is a prime number\")\n",
    "else:\n",
    "  print(sampleNum,\"is not a prime number\")\n",
    "\n"
   ]
  },
  {
   "cell_type": "markdown",
   "metadata": {
    "colab_type": "text",
    "id": "d1SHiA_glIvt"
   },
   "source": [
    "<h2>Question 6</h2>"
   ]
  },
  {
   "cell_type": "code",
   "execution_count": 85,
   "metadata": {
    "colab": {
     "base_uri": "https://localhost:8080/",
     "height": 119
    },
    "colab_type": "code",
    "id": "q869jOkFcN8D",
    "outputId": "e48a11fb-db02-49b5-ab84-80ce01e4e999"
   },
   "outputs": [
    {
     "name": "stdout",
     "output_type": "stream",
     "text": [
      "Items :\n",
      "\n",
      "Two Shirts\n",
      "T-Shirt\n",
      "Shoes\n",
      "Sun Glasses\n"
     ]
    }
   ],
   "source": [
    "def listofItems(*v):\n",
    "  for i in v:\n",
    "    print(i)\n",
    "\n",
    "print(\"Items :\\n\")\n",
    "listofItems(\"Two Shirts\",\"T-Shirt\",\"Shoes\",\"Sun Glasses\")"
   ]
  },
  {
   "cell_type": "code",
   "execution_count": 0,
   "metadata": {
    "colab": {},
    "colab_type": "code",
    "id": "NjgLUzAVkwQx"
   },
   "outputs": [],
   "source": []
  }
 ],
 "metadata": {
  "colab": {
   "collapsed_sections": [],
   "name": "Assignment 5.ipynb",
   "provenance": []
  },
  "kernelspec": {
   "display_name": "Python 3",
   "language": "python",
   "name": "python3"
  },
  "language_info": {
   "codemirror_mode": {
    "name": "ipython",
    "version": 3
   },
   "file_extension": ".py",
   "mimetype": "text/x-python",
   "name": "python",
   "nbconvert_exporter": "python",
   "pygments_lexer": "ipython3",
   "version": "3.6.5"
  }
 },
 "nbformat": 4,
 "nbformat_minor": 1
}
