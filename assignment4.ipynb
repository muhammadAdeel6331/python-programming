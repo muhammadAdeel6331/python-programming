{
  "nbformat": 4,
  "nbformat_minor": 0,
  "metadata": {
    "colab": {
      "name": "assignment4.ipynb",
      "provenance": [],
      "collapsed_sections": []
    },
    "kernelspec": {
      "name": "python3",
      "display_name": "Python 3"
    }
  },
  "cells": [
    {
      "cell_type": "markdown",
      "metadata": {
        "id": "Cw3gqyULGG6g",
        "colab_type": "text"
      },
      "source": [
        "<h2>Question 1<h2>"
      ]
    },
    {
      "cell_type": "code",
      "metadata": {
        "id": "15z5O6O7F5od",
        "colab_type": "code",
        "colab": {
          "base_uri": "https://localhost:8080/",
          "height": 170
        },
        "outputId": "f79df76d-0e20-4a34-b105-db35144fcdff"
      },
      "source": [
        "#Dictionary\n",
        "d1= {\"First_name\":\"daniyal\",\n",
        "     \"Last_name\":\"hamid\",\n",
        "     \"Age\":19,\n",
        "     \"City\":\"karachi\"}\n",
        "\n",
        "#printing each items\n",
        "for k,d in d1.items():\n",
        "  print(k,\" : \",d)\n",
        "\n",
        "print(\"\\n\")\n",
        "\n",
        "#adding a new key\n",
        "d1[\"qualification\"]=\"\"\n",
        "print(d1)\n",
        "\n",
        "#update a kay\n",
        "d1[\"qualification\"]=\"intermediate\"\n",
        "print(d1)\n",
        "\n",
        "#deleting a key and value\n",
        "del d1[\"qualification\"]\n",
        "print(d1)"
      ],
      "execution_count": 17,
      "outputs": [
        {
          "output_type": "stream",
          "text": [
            "First_name  :  daniyal\n",
            "Last_name  :  hamid\n",
            "Age  :  19\n",
            "City  :  karachi\n",
            "\n",
            "\n",
            "{'First_name': 'daniyal', 'Last_name': 'hamid', 'Age': 19, 'City': 'karachi', 'qualification': ''}\n",
            "{'First_name': 'daniyal', 'Last_name': 'hamid', 'Age': 19, 'City': 'karachi', 'qualification': 'intermediate'}\n",
            "{'First_name': 'daniyal', 'Last_name': 'hamid', 'Age': 19, 'City': 'karachi'}\n"
          ],
          "name": "stdout"
        }
      ]
    },
    {
      "cell_type": "markdown",
      "metadata": {
        "id": "R8DpWKbULfE9",
        "colab_type": "text"
      },
      "source": [
        "<h2>Question 2</h2>"
      ]
    },
    {
      "cell_type": "code",
      "metadata": {
        "id": "rXbQBAFFHcKh",
        "colab_type": "code",
        "colab": {
          "base_uri": "https://localhost:8080/",
          "height": 323
        },
        "outputId": "3a6a0839-8cb9-4066-ad69-03d631d746e9"
      },
      "source": [
        "cities={\n",
        "        \"karachi\":{\n",
        "                    \"country\":\"Pakistan\",\n",
        "                    \"population\":\"14 million\",\n",
        "                    \"fact\":\"City of lights\"\n",
        "                    },\n",
        "        \"lahore\":{\n",
        "                    \"country\":\"Pakistan\",\n",
        "                    \"population\":\"11 million\",\n",
        "                    \"fact\":\"City of food\"\n",
        "                  },\n",
        "        \"islamabad\":{\n",
        "                    \"country\":\"Pakistan\",\n",
        "                    \"population\":\"1 million\",\n",
        "                    \"fact\":\"Capital of Pakistan\"          \n",
        "                   }\n",
        "      }\n",
        "\n",
        "for k,v in cities.items():\n",
        "  print(k.capitalize(),\"\\n\")\n",
        "  for d,e in v.items():\n",
        "    print(d.capitalize(),\" : \",e.capitalize())\n",
        "  print()"
      ],
      "execution_count": 19,
      "outputs": [
        {
          "output_type": "stream",
          "text": [
            "Karachi \n",
            "\n",
            "Country  :  Pakistan\n",
            "Population  :  14 million\n",
            "Fact  :  City of lights\n",
            "\n",
            "Lahore \n",
            "\n",
            "Country  :  Pakistan\n",
            "Population  :  11 million\n",
            "Fact  :  City of food\n",
            "\n",
            "Islamabad \n",
            "\n",
            "Country  :  Pakistan\n",
            "Population  :  1 million\n",
            "Fact  :  Capital of pakistan\n",
            "\n"
          ],
          "name": "stdout"
        }
      ]
    },
    {
      "cell_type": "markdown",
      "metadata": {
        "id": "tDcaWzvCgWBH",
        "colab_type": "text"
      },
      "source": [
        "<h1>Question 3</h1>"
      ]
    },
    {
      "cell_type": "code",
      "metadata": {
        "id": "WhMlJ0gpQNOu",
        "colab_type": "code",
        "colab": {
          "base_uri": "https://localhost:8080/",
          "height": 68
        },
        "outputId": "7af6e4ff-07ff-4f5c-97a4-20da7f8f5739"
      },
      "source": [
        "\n",
        "while True:\n",
        "  age=int(input(\"Enter your age !\"))\n",
        "  if age <3:\n",
        "    print(\"Your ticket is Free\")\n",
        "  elif age >3 or age <12:\n",
        "    print(\"Your ticket is for 10$\")\n",
        "  elif age >12:\n",
        "    print(\"Your ticket is for 15$\")\n",
        "  \n",
        "  d = input(\"Do you wanna ask again  ?(y/n)\")\n",
        "  if d.lower() == \"n\":\n",
        "    break"
      ],
      "execution_count": 23,
      "outputs": [
        {
          "output_type": "stream",
          "text": [
            "Enter your age !24\n",
            "Your ticket is for 10$\n",
            "Do you wanna ask again  ?(y/n)n\n"
          ],
          "name": "stdout"
        }
      ]
    },
    {
      "cell_type": "markdown",
      "metadata": {
        "id": "jL52M7S9gx8C",
        "colab_type": "text"
      },
      "source": [
        "<h2>Question 4</h2>\n"
      ]
    },
    {
      "cell_type": "code",
      "metadata": {
        "id": "j8LWqUP9TgYT",
        "colab_type": "code",
        "colab": {
          "base_uri": "https://localhost:8080/",
          "height": 34
        },
        "outputId": "0e273504-b545-4089-b5a6-eae093ad6d02"
      },
      "source": [
        "def favorite_book(title):\n",
        "  print(\"My favorite book title is \",title)\n",
        "\n",
        "favorite_book(\"internet of thinges\")\n",
        "\n"
      ],
      "execution_count": 24,
      "outputs": [
        {
          "output_type": "stream",
          "text": [
            "My favorite book title is  internet of thinges\n"
          ],
          "name": "stdout"
        }
      ]
    },
    {
      "cell_type": "markdown",
      "metadata": {
        "id": "Z2VL44wkg79o",
        "colab_type": "text"
      },
      "source": [
        "<h2>Question 5</h2>"
      ]
    },
    {
      "cell_type": "code",
      "metadata": {
        "id": "digkriZrW7f3",
        "colab_type": "code",
        "colab": {
          "base_uri": "https://localhost:8080/",
          "height": 119
        },
        "outputId": "8f5c7416-a3ff-4109-b7c2-9df568102e08"
      },
      "source": [
        "import random\n",
        "r=random.randrange(1,31)\n",
        "i = 3\n",
        "while True:\n",
        "  \n",
        "  if i==0:\n",
        "    print(\"You have no turn left !\")\n",
        "    break\n",
        "  a=int(input(\"Enter a number !\"))\n",
        "  if r==a:\n",
        "    print(\"Your answer is correct\")\n",
        "    break\n",
        "  elif r>a:\n",
        "    print(\"Try a larger number !\")\n",
        "    print(\"Remaining turn\",i-1)\n",
        "  elif r<a:\n",
        "    print(\"Try a smaller number !\")\n",
        "    print(\"Remaining turn\",i-1)\n",
        "  i = i - 1\n",
        "  "
      ],
      "execution_count": 45,
      "outputs": [
        {
          "output_type": "stream",
          "text": [
            "4\n",
            "Enter a number !2\n",
            "Try a larger number !\n",
            "Remaining turn 2\n",
            "Enter a number !4\n",
            "Your answer is correct\n"
          ],
          "name": "stdout"
        }
      ]
    }
  ]
}