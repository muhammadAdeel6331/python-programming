{
  "nbformat": 4,
  "nbformat_minor": 0,
  "metadata": {
    "colab": {
      "name": "assignment4.ipynb",
      "provenance": [],
      "collapsed_sections": []
    },
    "kernelspec": {
      "name": "python3",
      "display_name": "Python 3"
    }
  },
  "cells": [
    {
      "cell_type": "markdown",
      "metadata": {
        "id": "Cw3gqyULGG6g",
        "colab_type": "text"
      },
      "source": [
        "<h2>Question 1<h2>"
      ]
    },
    {
      "cell_type": "code",
      "metadata": {
        "id": "15z5O6O7F5od",
        "colab_type": "code",
        "outputId": "435079b3-45c2-418f-fc74-3b32a673714b",
        "colab": {
          "base_uri": "https://localhost:8080/",
          "height": 170
        }
      },
      "source": [
        "#Dictionary\n",
        "d1= {\"first_name\":\"daniyal\",\n",
        "     \"last_name\":\"hamid\",\n",
        "     \"age\":19,\n",
        "     \"city\":\"karachi\"}\n",
        "\n",
        "#printing each items\n",
        "for k,d in d1.items():\n",
        "  print(k,\" : \",d)\n",
        "\n",
        "print(\"\\n\")\n",
        "\n",
        "#adding a new key\n",
        "d1[\"qualification\"]=\"\"\n",
        "print(d1)\n",
        "\n",
        "#update a kay\n",
        "d1[\"qualification\"]=\"intermediate\"\n",
        "print(d1)\n",
        "\n",
        "#deleting a key and value\n",
        "del d1[\"qualification\"]\n",
        "print(d1)"
      ],
      "execution_count": 14,
      "outputs": [
        {
          "output_type": "stream",
          "text": [
            "first_name  :  daniyal\n",
            "last_name  :  hamid\n",
            "age  :  19\n",
            "city  :  karachi\n",
            "\n",
            "\n",
            "{'first_name': 'daniyal', 'last_name': 'hamid', 'age': 19, 'city': 'karachi', 'qualification': ''}\n",
            "{'first_name': 'daniyal', 'last_name': 'hamid', 'age': 19, 'city': 'karachi', 'qualification': 'intermediate'}\n",
            "{'first_name': 'daniyal', 'last_name': 'hamid', 'age': 19, 'city': 'karachi'}\n"
          ],
          "name": "stdout"
        }
      ]
    },
    {
      "cell_type": "markdown",
      "metadata": {
        "id": "R8DpWKbULfE9",
        "colab_type": "text"
      },
      "source": [
        "<h2>Question 2</h2>"
      ]
    },
    {
      "cell_type": "code",
      "metadata": {
        "id": "rXbQBAFFHcKh",
        "colab_type": "code",
        "outputId": "3a1bf9a0-81b0-458c-89e4-f6752b237cbc",
        "colab": {
          "base_uri": "https://localhost:8080/",
          "height": 323
        }
      },
      "source": [
        "cities={\n",
        "        \"karachi\":{\n",
        "                    \"country\":\"Pakistan\",\n",
        "                    \"population\":\"14 million\",\n",
        "                    \"fact\":\"City of lights\"\n",
        "                    },\n",
        "        \"lahore\":{\n",
        "                    \"country\":\"Pakistan\",\n",
        "                    \"population\":\"11 million\",\n",
        "                    \"fact\":\"City of food\"\n",
        "                  },\n",
        "        \"islamabad\":{\n",
        "                    \"country\":\"Pakistan\",\n",
        "                    \"population\":\"1 million\",\n",
        "                    \"fact\":\"Capital of Pakistan\"          \n",
        "                   }\n",
        "      }\n",
        "\n",
        "for k,v in cities.items():\n",
        "  print(k.capitalize(),\"\\n\")\n",
        "  for d,e in v.items():\n",
        "    print(d.capitalize(),\" : \",e.capitalize())\n",
        "  print()"
      ],
      "execution_count": 15,
      "outputs": [
        {
          "output_type": "stream",
          "text": [
            "Karachi \n",
            "\n",
            "Country  :  Pakistan\n",
            "Population  :  14 million\n",
            "Fact  :  City of lights\n",
            "\n",
            "Lahore \n",
            "\n",
            "Country  :  Pakistan\n",
            "Population  :  11 million\n",
            "Fact  :  City of food\n",
            "\n",
            "Islamabad \n",
            "\n",
            "Country  :  Pakistan\n",
            "Population  :  1 million\n",
            "Fact  :  Capital of pakistan\n",
            "\n"
          ],
          "name": "stdout"
        }
      ]
    },
    {
      "cell_type": "markdown",
      "metadata": {
        "id": "tDcaWzvCgWBH",
        "colab_type": "text"
      },
      "source": [
        "<h1>Question 3</h1>"
      ]
    },
    {
      "cell_type": "code",
      "metadata": {
        "id": "WhMlJ0gpQNOu",
        "colab_type": "code",
        "outputId": "f38ef338-a8e0-4307-ce26-0d9c4cbd862c",
        "colab": {
          "base_uri": "https://localhost:8080/",
          "height": 272
        }
      },
      "source": [
        "\n",
        "while True:\n",
        "  age=int(input(\"Enter your age !\"))\n",
        "  if age <3:\n",
        "    print(\"Your ticket is Free\")\n",
        "  elif age >=3 and age <=12:\n",
        "    print(\"Your ticket is for 10$\")\n",
        "  elif age > 12:\n",
        "    print(\"Your ticket is for 15$\")\n",
        "  \n",
        "  d = input(\"Do you wanna ask again  ?(y/n)\")\n",
        "  if d.lower() == \"n\":\n",
        "    break"
      ],
      "execution_count": 16,
      "outputs": [
        {
          "output_type": "stream",
          "text": [
            "Enter your age !2\n",
            "Your ticket is Free\n",
            "Do you wanna ask again  ?(y/n)y\n",
            "Enter your age !3\n",
            "Your ticket is for 10$\n",
            "Do you wanna ask again  ?(y/n)y\n",
            "Enter your age !6\n",
            "Your ticket is for 10$\n",
            "Do you wanna ask again  ?(y/n)y\n",
            "Enter your age !12\n",
            "Your ticket is for 10$\n",
            "Do you wanna ask again  ?(y/n)y\n",
            "Enter your age !13\n",
            "Your ticket is for 15$\n",
            "Do you wanna ask again  ?(y/n)n\n"
          ],
          "name": "stdout"
        }
      ]
    },
    {
      "cell_type": "markdown",
      "metadata": {
        "id": "jL52M7S9gx8C",
        "colab_type": "text"
      },
      "source": [
        "<h2>Question 4</h2>\n"
      ]
    },
    {
      "cell_type": "code",
      "metadata": {
        "id": "j8LWqUP9TgYT",
        "colab_type": "code",
        "outputId": "9fb6ce3d-0d61-435b-d8b4-1a2fcfefe392",
        "colab": {
          "base_uri": "https://localhost:8080/",
          "height": 34
        }
      },
      "source": [
        "def favorite_book(title):\n",
        "  return \"My favorite book title is \"+title\n",
        "\n",
        "msg = favorite_book(\"internet of thinges\")\n",
        "print(msg)\n"
      ],
      "execution_count": 20,
      "outputs": [
        {
          "output_type": "stream",
          "text": [
            "My favorite book title is internet of thinges\n"
          ],
          "name": "stdout"
        }
      ]
    },
    {
      "cell_type": "markdown",
      "metadata": {
        "id": "Z2VL44wkg79o",
        "colab_type": "text"
      },
      "source": [
        "<h2>Question 5</h2>"
      ]
    },
    {
      "cell_type": "code",
      "metadata": {
        "id": "digkriZrW7f3",
        "colab_type": "code",
        "outputId": "39640ee1-8a0b-4b90-d935-5c863c91bd72",
        "colab": {
          "base_uri": "https://localhost:8080/",
          "height": 153
        }
      },
      "source": [
        "import random\n",
        "r=random.randrange(1,31)\n",
        "i = 3\n",
        "while True:\n",
        "  \n",
        "  if i==0:\n",
        "    print(\"You have no turn left !\")\n",
        "    break\n",
        "  a=int(input(\"Enter a number !\"))\n",
        "  if r==a:\n",
        "    print(\"Your answer is correct\")\n",
        "    break\n",
        "  elif r>a:\n",
        "    print(\"Try a larger number !\")\n",
        "    print(\"Remaining turn\",i-1)\n",
        "  elif r<a:\n",
        "    print(\"Try a smaller number !\")\n",
        "    print(\"Remaining turn\",i-1)\n",
        "  i = i - 1\n",
        "  "
      ],
      "execution_count": 18,
      "outputs": [
        {
          "output_type": "stream",
          "text": [
            "Enter a number !15\n",
            "Try a larger number !\n",
            "Remaining turn 2\n",
            "Enter a number !23\n",
            "Try a larger number !\n",
            "Remaining turn 1\n",
            "Enter a number !27\n",
            "Your answer is correct\n"
          ],
          "name": "stdout"
        }
      ]
    },
    {
      "cell_type": "code",
      "metadata": {
        "id": "UoIIX1uzu59Q",
        "colab_type": "code",
        "colab": {}
      },
      "source": [
        ""
      ],
      "execution_count": 0,
      "outputs": []
    }
  ]
}