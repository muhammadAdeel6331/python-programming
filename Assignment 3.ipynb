{
 "cells": [
  {
   "cell_type": "code",
   "execution_count": 1,
   "metadata": {},
   "outputs": [
    {
     "name": "stdout",
     "output_type": "stream",
     "text": [
      "Enter the First Number ! 3\n",
      "Enter the Second Number ! 1\n",
      "Enter the Operater to Calculate ! +\n",
      "4\n"
     ]
    }
   ],
   "source": [
    "#QUSTION 1\n",
    "\n",
    "\n",
    "num1= int(input(\"Enter the First Number ! \"))\n",
    "num2= int(input(\"Enter the Second Number ! \"))\n",
    "op= input(\"Enter the Operater to Calculate ! \")\n",
    "if op =='+' :\n",
    "    num=num1 +num2\n",
    "    print(num)\n",
    "elif op == '-' :\n",
    "    num= num1 - num2\n",
    "    print(num)\n",
    "elif op == '*' :\n",
    "    num= num1 * num2\n",
    "    print(num)\n",
    "elif op == '/' :\n",
    "    num= num1 / num2\n",
    "    print(num)\n",
    "else :\n",
    "    print(\"Enter the correct Operater ! \")"
   ]
  },
  {
   "cell_type": "code",
   "execution_count": 18,
   "metadata": {},
   "outputs": [
    {
     "name": "stdout",
     "output_type": "stream",
     "text": [
      "Your list contain a number !\n"
     ]
    }
   ],
   "source": [
    "#QUSTION 2\n",
    "\n",
    "\n",
    "arry = [2, 'aslam','aqib','aazam']\n",
    "for num in arry:\n",
    "    if type(num) ==  int:\n",
    "        print(\"Your list contain a number !\")\n",
    "        break\n",
    "        \n",
    "    else :\n",
    "        print(\"List dose not contain a number !\")\n",
    "        break\n",
    "        \n",
    "\n"
   ]
  },
  {
   "cell_type": "code",
   "execution_count": 83,
   "metadata": {},
   "outputs": [
    {
     "name": "stdout",
     "output_type": "stream",
     "text": [
      "{'daniyal': '24', 'adeel': '12', 'wahaj': '56'}\n",
      "{'daniyal': '24', 'adeel': '12', 'wahaj': '56', 'maaz': '11'}\n"
     ]
    }
   ],
   "source": [
    "#QUSTION 3\n",
    "\n",
    "\n",
    "marks = {\"daniyal\":\"24\", \"adeel\":\"12\", \"wahaj\":\"56\"}\n",
    "print(marks)\n",
    "\n",
    "marks[\"maaz\"]='11'\n",
    "print(marks)"
   ]
  },
  {
   "cell_type": "code",
   "execution_count": 26,
   "metadata": {},
   "outputs": [
    {
     "name": "stdout",
     "output_type": "stream",
     "text": [
      "8\n"
     ]
    }
   ],
   "source": [
    "#QUSTION 4\n",
    "\n",
    "\n",
    "d = {\"daniyal\":'24', \"hassan\":2, \"wahaj\":6}\n",
    "totalValues=0\n",
    "for i in d.values():\n",
    "    if type(i) == int:\n",
    "        totalValues += i\n",
    "\n",
    "print(totalValues)\n",
    "    "
   ]
  },
  {
   "cell_type": "code",
   "execution_count": 23,
   "metadata": {},
   "outputs": [
    {
     "ename": "SyntaxError",
     "evalue": "invalid syntax (<ipython-input-23-ed6b95389ba2>, line 6)",
     "output_type": "error",
     "traceback": [
      "\u001b[1;36m  File \u001b[1;32m\"<ipython-input-23-ed6b95389ba2>\"\u001b[1;36m, line \u001b[1;32m6\u001b[0m\n\u001b[1;33m    print [item for item , count in collections.counter(a).items() if count > 1]\u001b[0m\n\u001b[1;37m                  ^\u001b[0m\n\u001b[1;31mSyntaxError\u001b[0m\u001b[1;31m:\u001b[0m invalid syntax\n"
     ]
    }
   ],
   "source": [
    "#QUSTION 5\n",
    "\n",
    "\n",
    "a = [1,2,2,2,3,4,5,5,]\n",
    "\n",
    "for v in a:\n",
    "    "
   ]
  },
  {
   "cell_type": "code",
   "execution_count": 9,
   "metadata": {},
   "outputs": [
    {
     "name": "stdout",
     "output_type": "stream",
     "text": [
      "' item3 ' key exits in the dictionary\n"
     ]
    }
   ],
   "source": [
    "#QUSTION 6\n",
    "\n",
    "d2 = {\"item1\":\"itemvalue1\",\"item2\":\"itemvalue2\",\"item3\":\"itemvalue3\"}\n",
    "\n",
    "givenkey = \"item3\"\n",
    "\n",
    "if givenkey in d2:\n",
    "    print(\"'\",givenkey,\"' key exits in the dictionary\")\n",
    "else:\n",
    "    print(\"'\",givenkey,\"' key does not exit in the dictionary\")\n"
   ]
  },
  {
   "cell_type": "code",
   "execution_count": null,
   "metadata": {},
   "outputs": [],
   "source": []
  },
  {
   "cell_type": "code",
   "execution_count": null,
   "metadata": {},
   "outputs": [],
   "source": []
  },
  {
   "cell_type": "code",
   "execution_count": null,
   "metadata": {},
   "outputs": [],
   "source": []
  },
  {
   "cell_type": "code",
   "execution_count": null,
   "metadata": {},
   "outputs": [],
   "source": []
  }
 ],
 "metadata": {
  "kernelspec": {
   "display_name": "Python 3",
   "language": "python",
   "name": "python3"
  },
  "language_info": {
   "codemirror_mode": {
    "name": "ipython",
    "version": 3
   },
   "file_extension": ".py",
   "mimetype": "text/x-python",
   "name": "python",
   "nbconvert_exporter": "python",
   "pygments_lexer": "ipython3",
   "version": "3.6.5"
  }
 },
 "nbformat": 4,
 "nbformat_minor": 2
}
