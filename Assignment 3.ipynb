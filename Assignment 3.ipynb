{
  "nbformat": 4,
  "nbformat_minor": 0,
  "metadata": {
    "colab": {
      "name": "Assignment 3.ipynb",
      "provenance": [],
      "collapsed_sections": []
    },
    "kernelspec": {
      "name": "python3",
      "display_name": "Python 3"
    }
  },
  "cells": [
    {
      "cell_type": "markdown",
      "metadata": {
        "id": "kQyYPuDMWwur",
        "colab_type": "text"
      },
      "source": [
        "<h3>Question 1</h3>"
      ]
    },
    {
      "cell_type": "code",
      "metadata": {
        "id": "KzzW08Vo8nCU",
        "colab_type": "code",
        "outputId": "e42586e8-35c6-4e8d-e6ca-1ed72d65fd3e",
        "colab": {
          "base_uri": "https://localhost:8080/",
          "height": 85
        }
      },
      "source": [
        "\n",
        "num1= int(input(\"Enter the First Number ! \"))\n",
        "num2= int(input(\"Enter the Second Number ! \"))\n",
        "op= input(\"Enter the Operater to Calculate ! \")\n",
        "if op =='+' :\n",
        "    num=num1 +num2\n",
        "    print(num)\n",
        "elif op == '-' :\n",
        "    num= num1 - num2\n",
        "    print(num)\n",
        "elif op == '*' :\n",
        "    num= num1 * num2\n",
        "    print(num)\n",
        "elif op == '/' :\n",
        "    num= num1 / num2\n",
        "    print(num)\n",
        "else :\n",
        "    print(\"Enter the correct Operater ! \")"
      ],
      "execution_count": 0,
      "outputs": [
        {
          "output_type": "stream",
          "text": [
            "Enter the First Number ! 43\n",
            "Enter the Second Number ! 2\n",
            "Enter the Operater to Calculate ! +\n",
            "45\n"
          ],
          "name": "stdout"
        }
      ]
    },
    {
      "cell_type": "markdown",
      "metadata": {
        "id": "W3nVVgs3W57a",
        "colab_type": "text"
      },
      "source": [
        "<h3>Question 2</h3>"
      ]
    },
    {
      "cell_type": "code",
      "metadata": {
        "id": "LXL5z73m9zp-",
        "colab_type": "code",
        "outputId": "412ccc0b-b9a0-4f97-9bcb-de46ffd847c3",
        "colab": {
          "base_uri": "https://localhost:8080/",
          "height": 34
        }
      },
      "source": [
        "arry = [2, 'aslam','aqib','aazam']\n",
        "for num in arry:\n",
        "    if type(num) ==  int:\n",
        "        print(\"Your list contain a number !\")\n",
        "        break\n",
        "        \n",
        "    else :\n",
        "        print(\"List dose not contain a number !\")\n",
        "        break\n",
        "        \n",
        "\n"
      ],
      "execution_count": 0,
      "outputs": [
        {
          "output_type": "stream",
          "text": [
            "Your list contain a number !\n"
          ],
          "name": "stdout"
        }
      ]
    },
    {
      "cell_type": "markdown",
      "metadata": {
        "id": "N6VX7ekGW90k",
        "colab_type": "text"
      },
      "source": [
        "<h3>Question 3</h3>"
      ]
    },
    {
      "cell_type": "code",
      "metadata": {
        "id": "HvEDoPzl971a",
        "colab_type": "code",
        "outputId": "41ecfef1-9776-46ca-83ed-3365b57e05e1",
        "colab": {
          "base_uri": "https://localhost:8080/",
          "height": 51
        }
      },
      "source": [
        "marks = {\"daniyal\":\"24\", \"adeel\":\"12\", \"wahaj\":\"56\"}\n",
        "print(marks)\n",
        "\n",
        "marks[\"maaz\"]='11'\n",
        "print(marks)"
      ],
      "execution_count": 0,
      "outputs": [
        {
          "output_type": "stream",
          "text": [
            "{'daniyal': '24', 'adeel': '12', 'wahaj': '56'}\n",
            "{'daniyal': '24', 'adeel': '12', 'wahaj': '56', 'maaz': '11'}\n"
          ],
          "name": "stdout"
        }
      ]
    },
    {
      "cell_type": "markdown",
      "metadata": {
        "id": "Cem-E0afXCBY",
        "colab_type": "text"
      },
      "source": [
        "<h3>Question 4</h3>"
      ]
    },
    {
      "cell_type": "code",
      "metadata": {
        "id": "04eaMQym-AU_",
        "colab_type": "code",
        "outputId": "69558816-adf5-4a79-8b81-7921cd6c3d4c",
        "colab": {
          "base_uri": "https://localhost:8080/",
          "height": 34
        }
      },
      "source": [
        "d = {\"daniyal\":'24', \"hassan\":2, \"wahaj\":6}\n",
        "totalValues=0\n",
        "for i in d.values():\n",
        "    if type(i) == int:\n",
        "        totalValues += i\n",
        "\n",
        "print(totalValues)\n",
        "    "
      ],
      "execution_count": 0,
      "outputs": [
        {
          "output_type": "stream",
          "text": [
            "8\n"
          ],
          "name": "stdout"
        }
      ]
    },
    {
      "cell_type": "markdown",
      "metadata": {
        "id": "7w5D56r1XQAy",
        "colab_type": "text"
      },
      "source": [
        "<h3>Question 5</h3>"
      ]
    },
    {
      "cell_type": "code",
      "metadata": {
        "id": "pCTmZNgi-Ct0",
        "colab_type": "code",
        "outputId": "83d99951-38c2-430f-8eb0-d16b4de10460",
        "colab": {
          "base_uri": "https://localhost:8080/",
          "height": 34
        }
      },
      "source": [
        "a = [1,2,3,2,1,5,6,'s','s',5,5,5]\n",
        "\n",
        "import collections\n",
        "print([item for item, count in collections.Counter(a).items() if count > 1])\n"
      ],
      "execution_count": 0,
      "outputs": [
        {
          "output_type": "stream",
          "text": [
            "[1, 2, 5, 's']\n"
          ],
          "name": "stdout"
        }
      ]
    },
    {
      "cell_type": "markdown",
      "metadata": {
        "id": "3MvgxO5EXVtd",
        "colab_type": "text"
      },
      "source": [
        "<h3>Question 6</h3>"
      ]
    },
    {
      "cell_type": "code",
      "metadata": {
        "id": "dnqYPL7f-lT3",
        "colab_type": "code",
        "outputId": "cf9ba01f-5374-46d6-e919-d62101e47381",
        "colab": {
          "base_uri": "https://localhost:8080/",
          "height": 34
        }
      },
      "source": [
        "d2 = {\"item1\":\"itemvalue1\",\"item2\":\"itemvalue2\",\"item3\":\"itemvalue3\"}\n",
        "\n",
        "givenkey = \"item9\"\n",
        "\n",
        "if givenkey in d2:\n",
        "    print(\"'\",givenkey,\"' key exits in the dictionary\")\n",
        "else:\n",
        "    print(\"'\",givenkey,\"' key does not exit in the dictionary\")\n"
      ],
      "execution_count": 0,
      "outputs": [
        {
          "output_type": "stream",
          "text": [
            "' item9 ' key does not exit in the dictionary\n"
          ],
          "name": "stdout"
        }
      ]
    },
    {
      "cell_type": "code",
      "metadata": {
        "id": "Q9PB_u6l--Gi",
        "colab_type": "code",
        "colab": {}
      },
      "source": [
        ""
      ],
      "execution_count": 0,
      "outputs": []
    }
  ]
}